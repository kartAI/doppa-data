﻿{
 "cells": [
  {
   "metadata": {
    "ExecuteTime": {
     "end_time": "2025-10-25T09:59:06.426096Z",
     "start_time": "2025-10-25T09:59:06.414541Z"
    }
   },
   "cell_type": "code",
   "source": [
    "import geopandas as gpd\n",
    "from src import Config"
   ],
   "id": "4594a3c8665635b1",
   "outputs": [],
   "execution_count": 6
  },
  {
   "metadata": {
    "ExecuteTime": {
     "end_time": "2025-10-25T09:59:06.494107Z",
     "start_time": "2025-10-25T09:59:06.490919Z"
    }
   },
   "cell_type": "code",
   "source": [
    "RELEASE = \"2025-10-25.2\"\n",
    "part_0 = f\"az://raw/osm/release/{RELEASE}/theme=buildings/region=46/part_00000.parquet\"\n",
    "part_1 = f\"az://raw/osm/release/{RELEASE}/theme=buildings/region=46/part_00001.parquet\"\n",
    "parquet_paths: list[str] = [part_0, part_1]"
   ],
   "id": "d4da8645178c77b8",
   "outputs": [],
   "execution_count": 7
  },
  {
   "metadata": {
    "ExecuteTime": {
     "end_time": "2025-10-25T09:59:14.880202Z",
     "start_time": "2025-10-25T09:59:06.515399Z"
    }
   },
   "cell_type": "code",
   "source": [
    "gdf_part_0 = gpd.read_parquet(\n",
    "    part_0,\n",
    "    storage_options={\n",
    "        \"connection_string\": Config.BLOB_STORAGE_CONNECTION_STRING\n",
    "    }\n",
    ")\n",
    "\n",
    "gdf_part_1 = gpd.read_parquet(\n",
    "    part_1,\n",
    "    storage_options={\n",
    "        \"connection_string\": Config.BLOB_STORAGE_CONNECTION_STRING\n",
    "    }\n",
    ")"
   ],
   "id": "2a43359d4de3a9b8",
   "outputs": [],
   "execution_count": 8
  },
  {
   "metadata": {
    "ExecuteTime": {
     "end_time": "2025-10-25T09:59:14.907215Z",
     "start_time": "2025-10-25T09:59:14.897734Z"
    }
   },
   "cell_type": "code",
   "source": "gdf_part_0.head()",
   "id": "ec90e104fc89624f",
   "outputs": [
    {
     "data": {
      "text/plain": [
       "          type ref:bygningsnr       id  \\\n",
       "0    warehouse      173892403  8292478   \n",
       "1        cabin       17874764  8295912   \n",
       "2        cabin        9609636  8295920   \n",
       "3  unspecified           None  8331410   \n",
       "4  unspecified           None  8331414   \n",
       "\n",
       "                                            geometry      theme region  \n",
       "0  MULTIPOLYGON (((5.25761 59.81987, 5.25774 59.8...  buildings     46  \n",
       "1  MULTIPOLYGON (((5.26926 59.52207, 5.26937 59.5...  buildings     46  \n",
       "2  MULTIPOLYGON (((5.26944 59.5217, 5.26948 59.52...  buildings     46  \n",
       "3  MULTIPOLYGON (((5.01778 60.81271, 5.01825 60.8...  buildings     46  \n",
       "4  MULTIPOLYGON (((5.01786 60.81342, 5.01872 60.8...  buildings     46  "
      ],
      "text/html": [
       "<div>\n",
       "<style scoped>\n",
       "    .dataframe tbody tr th:only-of-type {\n",
       "        vertical-align: middle;\n",
       "    }\n",
       "\n",
       "    .dataframe tbody tr th {\n",
       "        vertical-align: top;\n",
       "    }\n",
       "\n",
       "    .dataframe thead th {\n",
       "        text-align: right;\n",
       "    }\n",
       "</style>\n",
       "<table border=\"1\" class=\"dataframe\">\n",
       "  <thead>\n",
       "    <tr style=\"text-align: right;\">\n",
       "      <th></th>\n",
       "      <th>type</th>\n",
       "      <th>ref:bygningsnr</th>\n",
       "      <th>id</th>\n",
       "      <th>geometry</th>\n",
       "      <th>theme</th>\n",
       "      <th>region</th>\n",
       "    </tr>\n",
       "  </thead>\n",
       "  <tbody>\n",
       "    <tr>\n",
       "      <th>0</th>\n",
       "      <td>warehouse</td>\n",
       "      <td>173892403</td>\n",
       "      <td>8292478</td>\n",
       "      <td>MULTIPOLYGON (((5.25761 59.81987, 5.25774 59.8...</td>\n",
       "      <td>buildings</td>\n",
       "      <td>46</td>\n",
       "    </tr>\n",
       "    <tr>\n",
       "      <th>1</th>\n",
       "      <td>cabin</td>\n",
       "      <td>17874764</td>\n",
       "      <td>8295912</td>\n",
       "      <td>MULTIPOLYGON (((5.26926 59.52207, 5.26937 59.5...</td>\n",
       "      <td>buildings</td>\n",
       "      <td>46</td>\n",
       "    </tr>\n",
       "    <tr>\n",
       "      <th>2</th>\n",
       "      <td>cabin</td>\n",
       "      <td>9609636</td>\n",
       "      <td>8295920</td>\n",
       "      <td>MULTIPOLYGON (((5.26944 59.5217, 5.26948 59.52...</td>\n",
       "      <td>buildings</td>\n",
       "      <td>46</td>\n",
       "    </tr>\n",
       "    <tr>\n",
       "      <th>3</th>\n",
       "      <td>unspecified</td>\n",
       "      <td>None</td>\n",
       "      <td>8331410</td>\n",
       "      <td>MULTIPOLYGON (((5.01778 60.81271, 5.01825 60.8...</td>\n",
       "      <td>buildings</td>\n",
       "      <td>46</td>\n",
       "    </tr>\n",
       "    <tr>\n",
       "      <th>4</th>\n",
       "      <td>unspecified</td>\n",
       "      <td>None</td>\n",
       "      <td>8331414</td>\n",
       "      <td>MULTIPOLYGON (((5.01786 60.81342, 5.01872 60.8...</td>\n",
       "      <td>buildings</td>\n",
       "      <td>46</td>\n",
       "    </tr>\n",
       "  </tbody>\n",
       "</table>\n",
       "</div>"
      ]
     },
     "execution_count": 9,
     "metadata": {},
     "output_type": "execute_result"
    }
   ],
   "execution_count": 9
  },
  {
   "metadata": {
    "ExecuteTime": {
     "end_time": "2025-10-25T09:59:17.976006Z",
     "start_time": "2025-10-25T09:59:17.967806Z"
    }
   },
   "cell_type": "code",
   "source": "gdf_part_1.head()",
   "id": "f2e45b2bcf6c14fb",
   "outputs": [
    {
     "data": {
      "text/plain": [
       "                 type ref:bygningsnr          id  \\\n",
       "0               cabin      175821082  1899639020   \n",
       "1               house      175817085  1899639022   \n",
       "2              garage      175817077  1899639024   \n",
       "3                farm      175821104  1899639026   \n",
       "4  semidetached_house      175817107  1899639028   \n",
       "\n",
       "                                            geometry      theme region  \n",
       "0  MULTIPOLYGON (((6.01193 60.55379, 6.01201 60.5...  buildings     46  \n",
       "1  MULTIPOLYGON (((5.82983 60.58963, 5.82984 60.5...  buildings     46  \n",
       "2  MULTIPOLYGON (((5.82934 60.58954, 5.82936 60.5...  buildings     46  \n",
       "3  MULTIPOLYGON (((6.01209 60.55546, 6.01217 60.5...  buildings     46  \n",
       "4  MULTIPOLYGON (((5.82831 60.58937, 5.82838 60.5...  buildings     46  "
      ],
      "text/html": [
       "<div>\n",
       "<style scoped>\n",
       "    .dataframe tbody tr th:only-of-type {\n",
       "        vertical-align: middle;\n",
       "    }\n",
       "\n",
       "    .dataframe tbody tr th {\n",
       "        vertical-align: top;\n",
       "    }\n",
       "\n",
       "    .dataframe thead th {\n",
       "        text-align: right;\n",
       "    }\n",
       "</style>\n",
       "<table border=\"1\" class=\"dataframe\">\n",
       "  <thead>\n",
       "    <tr style=\"text-align: right;\">\n",
       "      <th></th>\n",
       "      <th>type</th>\n",
       "      <th>ref:bygningsnr</th>\n",
       "      <th>id</th>\n",
       "      <th>geometry</th>\n",
       "      <th>theme</th>\n",
       "      <th>region</th>\n",
       "    </tr>\n",
       "  </thead>\n",
       "  <tbody>\n",
       "    <tr>\n",
       "      <th>0</th>\n",
       "      <td>cabin</td>\n",
       "      <td>175821082</td>\n",
       "      <td>1899639020</td>\n",
       "      <td>MULTIPOLYGON (((6.01193 60.55379, 6.01201 60.5...</td>\n",
       "      <td>buildings</td>\n",
       "      <td>46</td>\n",
       "    </tr>\n",
       "    <tr>\n",
       "      <th>1</th>\n",
       "      <td>house</td>\n",
       "      <td>175817085</td>\n",
       "      <td>1899639022</td>\n",
       "      <td>MULTIPOLYGON (((5.82983 60.58963, 5.82984 60.5...</td>\n",
       "      <td>buildings</td>\n",
       "      <td>46</td>\n",
       "    </tr>\n",
       "    <tr>\n",
       "      <th>2</th>\n",
       "      <td>garage</td>\n",
       "      <td>175817077</td>\n",
       "      <td>1899639024</td>\n",
       "      <td>MULTIPOLYGON (((5.82934 60.58954, 5.82936 60.5...</td>\n",
       "      <td>buildings</td>\n",
       "      <td>46</td>\n",
       "    </tr>\n",
       "    <tr>\n",
       "      <th>3</th>\n",
       "      <td>farm</td>\n",
       "      <td>175821104</td>\n",
       "      <td>1899639026</td>\n",
       "      <td>MULTIPOLYGON (((6.01209 60.55546, 6.01217 60.5...</td>\n",
       "      <td>buildings</td>\n",
       "      <td>46</td>\n",
       "    </tr>\n",
       "    <tr>\n",
       "      <th>4</th>\n",
       "      <td>semidetached_house</td>\n",
       "      <td>175817107</td>\n",
       "      <td>1899639028</td>\n",
       "      <td>MULTIPOLYGON (((5.82831 60.58937, 5.82838 60.5...</td>\n",
       "      <td>buildings</td>\n",
       "      <td>46</td>\n",
       "    </tr>\n",
       "  </tbody>\n",
       "</table>\n",
       "</div>"
      ]
     },
     "execution_count": 10,
     "metadata": {},
     "output_type": "execute_result"
    }
   ],
   "execution_count": 10
  },
  {
   "metadata": {
    "ExecuteTime": {
     "end_time": "2025-10-25T09:59:15.122430Z",
     "start_time": "2025-10-25T09:59:15.119592Z"
    }
   },
   "cell_type": "code",
   "source": "",
   "id": "d5467b38dcffee70",
   "outputs": [],
   "execution_count": null
  }
 ],
 "metadata": {
  "kernelspec": {
   "display_name": "Python 3",
   "language": "python",
   "name": "python3"
  },
  "language_info": {
   "codemirror_mode": {
    "name": "ipython",
    "version": 2
   },
   "file_extension": ".py",
   "mimetype": "text/x-python",
   "name": "python",
   "nbconvert_exporter": "python",
   "pygments_lexer": "ipython2",
   "version": "2.7.6"
  }
 },
 "nbformat": 4,
 "nbformat_minor": 5
}
