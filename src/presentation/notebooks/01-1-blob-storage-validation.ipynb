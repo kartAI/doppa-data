﻿{
 "cells": [
  {
   "metadata": {
    "ExecuteTime": {
     "end_time": "2025-10-27T11:21:17.510782Z",
     "start_time": "2025-10-27T11:21:16.713394Z"
    }
   },
   "cell_type": "code",
   "source": [
    "import geopandas as gpd\n",
    "from src import Config\n",
    "from src.infra.persistence.context import create_duckdb_context"
   ],
   "id": "4594a3c8665635b1",
   "outputs": [],
   "execution_count": 1
  },
  {
   "metadata": {
    "ExecuteTime": {
     "end_time": "2025-10-27T11:21:17.664185Z",
     "start_time": "2025-10-27T11:21:17.661275Z"
    }
   },
   "cell_type": "code",
   "source": [
    "RELEASE = \"2025-10-25.2\"\n",
    "part_0 = f\"az://raw/osm/release/{RELEASE}/theme=buildings/region=46/part_00000.parquet\"\n",
    "part_1 = f\"az://raw/osm/release/{RELEASE}/theme=buildings/region=46/part_00001.parquet\"\n",
    "parquet_paths: list[str] = [part_0, part_1]"
   ],
   "id": "d4da8645178c77b8",
   "outputs": [],
   "execution_count": 2
  },
  {
   "metadata": {},
   "cell_type": "markdown",
   "source": "### View data using GeoPandas",
   "id": "24f6f4deb55fa87"
  },
  {
   "metadata": {
    "ExecuteTime": {
     "end_time": "2025-10-27T11:21:37.889715Z",
     "start_time": "2025-10-27T11:21:17.684213Z"
    }
   },
   "cell_type": "code",
   "source": [
    "gdf_part_0 = gpd.read_parquet(\n",
    "    part_0,\n",
    "    storage_options={\n",
    "        \"connection_string\": Config.BLOB_STORAGE_CONNECTION_STRING\n",
    "    }\n",
    ")\n",
    "\n",
    "gdf_part_1 = gpd.read_parquet(\n",
    "    part_1,\n",
    "    storage_options={\n",
    "        \"connection_string\": Config.BLOB_STORAGE_CONNECTION_STRING\n",
    "    }\n",
    ")"
   ],
   "id": "2a43359d4de3a9b8",
   "outputs": [],
   "execution_count": 3
  },
  {
   "metadata": {
    "ExecuteTime": {
     "end_time": "2025-10-27T11:21:37.931459Z",
     "start_time": "2025-10-27T11:21:37.919198Z"
    }
   },
   "cell_type": "code",
   "source": "gdf_part_0.head()",
   "id": "ec90e104fc89624f",
   "outputs": [
    {
     "data": {
      "text/plain": [
       "          type ref:bygningsnr       id  \\\n",
       "0    warehouse      173892403  8292478   \n",
       "1        cabin       17874764  8295912   \n",
       "2        cabin        9609636  8295920   \n",
       "3  unspecified           None  8331410   \n",
       "4  unspecified           None  8331414   \n",
       "\n",
       "                                            geometry      theme region  \n",
       "0  MULTIPOLYGON (((5.25761 59.81987, 5.25774 59.8...  buildings     46  \n",
       "1  MULTIPOLYGON (((5.26926 59.52207, 5.26937 59.5...  buildings     46  \n",
       "2  MULTIPOLYGON (((5.26944 59.5217, 5.26948 59.52...  buildings     46  \n",
       "3  MULTIPOLYGON (((5.01778 60.81271, 5.01825 60.8...  buildings     46  \n",
       "4  MULTIPOLYGON (((5.01786 60.81342, 5.01872 60.8...  buildings     46  "
      ],
      "text/html": [
       "<div>\n",
       "<style scoped>\n",
       "    .dataframe tbody tr th:only-of-type {\n",
       "        vertical-align: middle;\n",
       "    }\n",
       "\n",
       "    .dataframe tbody tr th {\n",
       "        vertical-align: top;\n",
       "    }\n",
       "\n",
       "    .dataframe thead th {\n",
       "        text-align: right;\n",
       "    }\n",
       "</style>\n",
       "<table border=\"1\" class=\"dataframe\">\n",
       "  <thead>\n",
       "    <tr style=\"text-align: right;\">\n",
       "      <th></th>\n",
       "      <th>type</th>\n",
       "      <th>ref:bygningsnr</th>\n",
       "      <th>id</th>\n",
       "      <th>geometry</th>\n",
       "      <th>theme</th>\n",
       "      <th>region</th>\n",
       "    </tr>\n",
       "  </thead>\n",
       "  <tbody>\n",
       "    <tr>\n",
       "      <th>0</th>\n",
       "      <td>warehouse</td>\n",
       "      <td>173892403</td>\n",
       "      <td>8292478</td>\n",
       "      <td>MULTIPOLYGON (((5.25761 59.81987, 5.25774 59.8...</td>\n",
       "      <td>buildings</td>\n",
       "      <td>46</td>\n",
       "    </tr>\n",
       "    <tr>\n",
       "      <th>1</th>\n",
       "      <td>cabin</td>\n",
       "      <td>17874764</td>\n",
       "      <td>8295912</td>\n",
       "      <td>MULTIPOLYGON (((5.26926 59.52207, 5.26937 59.5...</td>\n",
       "      <td>buildings</td>\n",
       "      <td>46</td>\n",
       "    </tr>\n",
       "    <tr>\n",
       "      <th>2</th>\n",
       "      <td>cabin</td>\n",
       "      <td>9609636</td>\n",
       "      <td>8295920</td>\n",
       "      <td>MULTIPOLYGON (((5.26944 59.5217, 5.26948 59.52...</td>\n",
       "      <td>buildings</td>\n",
       "      <td>46</td>\n",
       "    </tr>\n",
       "    <tr>\n",
       "      <th>3</th>\n",
       "      <td>unspecified</td>\n",
       "      <td>None</td>\n",
       "      <td>8331410</td>\n",
       "      <td>MULTIPOLYGON (((5.01778 60.81271, 5.01825 60.8...</td>\n",
       "      <td>buildings</td>\n",
       "      <td>46</td>\n",
       "    </tr>\n",
       "    <tr>\n",
       "      <th>4</th>\n",
       "      <td>unspecified</td>\n",
       "      <td>None</td>\n",
       "      <td>8331414</td>\n",
       "      <td>MULTIPOLYGON (((5.01786 60.81342, 5.01872 60.8...</td>\n",
       "      <td>buildings</td>\n",
       "      <td>46</td>\n",
       "    </tr>\n",
       "  </tbody>\n",
       "</table>\n",
       "</div>"
      ]
     },
     "execution_count": 4,
     "metadata": {},
     "output_type": "execute_result"
    }
   ],
   "execution_count": 4
  },
  {
   "metadata": {
    "ExecuteTime": {
     "end_time": "2025-10-27T11:21:37.989908Z",
     "start_time": "2025-10-27T11:21:37.980023Z"
    }
   },
   "cell_type": "code",
   "source": "gdf_part_1.head()",
   "id": "f2e45b2bcf6c14fb",
   "outputs": [
    {
     "data": {
      "text/plain": [
       "                 type ref:bygningsnr          id  \\\n",
       "0               cabin      175821082  1899639020   \n",
       "1               house      175817085  1899639022   \n",
       "2              garage      175817077  1899639024   \n",
       "3                farm      175821104  1899639026   \n",
       "4  semidetached_house      175817107  1899639028   \n",
       "\n",
       "                                            geometry      theme region  \n",
       "0  MULTIPOLYGON (((6.01193 60.55379, 6.01201 60.5...  buildings     46  \n",
       "1  MULTIPOLYGON (((5.82983 60.58963, 5.82984 60.5...  buildings     46  \n",
       "2  MULTIPOLYGON (((5.82934 60.58954, 5.82936 60.5...  buildings     46  \n",
       "3  MULTIPOLYGON (((6.01209 60.55546, 6.01217 60.5...  buildings     46  \n",
       "4  MULTIPOLYGON (((5.82831 60.58937, 5.82838 60.5...  buildings     46  "
      ],
      "text/html": [
       "<div>\n",
       "<style scoped>\n",
       "    .dataframe tbody tr th:only-of-type {\n",
       "        vertical-align: middle;\n",
       "    }\n",
       "\n",
       "    .dataframe tbody tr th {\n",
       "        vertical-align: top;\n",
       "    }\n",
       "\n",
       "    .dataframe thead th {\n",
       "        text-align: right;\n",
       "    }\n",
       "</style>\n",
       "<table border=\"1\" class=\"dataframe\">\n",
       "  <thead>\n",
       "    <tr style=\"text-align: right;\">\n",
       "      <th></th>\n",
       "      <th>type</th>\n",
       "      <th>ref:bygningsnr</th>\n",
       "      <th>id</th>\n",
       "      <th>geometry</th>\n",
       "      <th>theme</th>\n",
       "      <th>region</th>\n",
       "    </tr>\n",
       "  </thead>\n",
       "  <tbody>\n",
       "    <tr>\n",
       "      <th>0</th>\n",
       "      <td>cabin</td>\n",
       "      <td>175821082</td>\n",
       "      <td>1899639020</td>\n",
       "      <td>MULTIPOLYGON (((6.01193 60.55379, 6.01201 60.5...</td>\n",
       "      <td>buildings</td>\n",
       "      <td>46</td>\n",
       "    </tr>\n",
       "    <tr>\n",
       "      <th>1</th>\n",
       "      <td>house</td>\n",
       "      <td>175817085</td>\n",
       "      <td>1899639022</td>\n",
       "      <td>MULTIPOLYGON (((5.82983 60.58963, 5.82984 60.5...</td>\n",
       "      <td>buildings</td>\n",
       "      <td>46</td>\n",
       "    </tr>\n",
       "    <tr>\n",
       "      <th>2</th>\n",
       "      <td>garage</td>\n",
       "      <td>175817077</td>\n",
       "      <td>1899639024</td>\n",
       "      <td>MULTIPOLYGON (((5.82934 60.58954, 5.82936 60.5...</td>\n",
       "      <td>buildings</td>\n",
       "      <td>46</td>\n",
       "    </tr>\n",
       "    <tr>\n",
       "      <th>3</th>\n",
       "      <td>farm</td>\n",
       "      <td>175821104</td>\n",
       "      <td>1899639026</td>\n",
       "      <td>MULTIPOLYGON (((6.01209 60.55546, 6.01217 60.5...</td>\n",
       "      <td>buildings</td>\n",
       "      <td>46</td>\n",
       "    </tr>\n",
       "    <tr>\n",
       "      <th>4</th>\n",
       "      <td>semidetached_house</td>\n",
       "      <td>175817107</td>\n",
       "      <td>1899639028</td>\n",
       "      <td>MULTIPOLYGON (((5.82831 60.58937, 5.82838 60.5...</td>\n",
       "      <td>buildings</td>\n",
       "      <td>46</td>\n",
       "    </tr>\n",
       "  </tbody>\n",
       "</table>\n",
       "</div>"
      ]
     },
     "execution_count": 5,
     "metadata": {},
     "output_type": "execute_result"
    }
   ],
   "execution_count": 5
  },
  {
   "metadata": {},
   "cell_type": "markdown",
   "source": "### View data using DuckDB",
   "id": "91112bd02a3f71"
  },
  {
   "metadata": {
    "ExecuteTime": {
     "end_time": "2025-10-27T11:21:52.619872Z",
     "start_time": "2025-10-27T11:21:38.113218Z"
    }
   },
   "cell_type": "code",
   "source": [
    "path = \"az://raw/release/2025-10-27.8/datset=osm/theme=buildings/region=34/*.parquet\"\n",
    "\n",
    "db_context = create_duckdb_context()\n",
    "df = db_context.execute(f\"\"\"\n",
    "SELECT * FROM '{path}'\n",
    "\"\"\").fetchdf()"
   ],
   "id": "9673be25e54d33d6",
   "outputs": [],
   "execution_count": 6
  },
  {
   "metadata": {
    "ExecuteTime": {
     "end_time": "2025-10-27T11:21:52.679890Z",
     "start_time": "2025-10-27T11:21:52.664440Z"
    }
   },
   "cell_type": "code",
   "source": "df.head()",
   "id": "4b0a3aa9850e14a3",
   "outputs": [
    {
     "data": {
      "text/plain": [
       "            type ref:bygningsnr        id  \\\n",
       "0         school      300681410  52578874   \n",
       "1  sports_centre       13778086  56575688   \n",
       "2  sports_centre        7224745  58465580   \n",
       "3         retail       20437928  67305952   \n",
       "4           farm      140325082  67815114   \n",
       "\n",
       "                                            geometry  \\\n",
       "0  [5, 4, 0, 0, 0, 0, 0, 0, 118, 108, 39, 65, 182...   \n",
       "1  [5, 4, 0, 0, 0, 0, 0, 0, 46, 152, 49, 65, 244,...   \n",
       "2  [5, 4, 0, 0, 0, 0, 0, 0, 232, 98, 53, 65, 116,...   \n",
       "3  [5, 4, 0, 0, 0, 0, 0, 0, 123, 174, 42, 65, 34,...   \n",
       "4  [5, 4, 0, 0, 0, 0, 0, 0, 148, 249, 39, 65, 70,...   \n",
       "\n",
       "                                                bbox datset  region      theme  \n",
       "0  {'xmin': 10.4639806, 'ymin': 61.1325323, 'xmax...    osm      34  buildings  \n",
       "1  {'xmin': 11.099654, 'ymin': 60.791947, 'xmax':...    osm      34  buildings  \n",
       "2  {'xmin': 11.3366477, 'ymin': 60.8178282, 'xmax...    osm      34  buildings  \n",
       "3  {'xmin': 10.6675984, 'ymin': 60.7862631, 'xmax...    osm      34  buildings  \n",
       "4  {'xmin': 10.498433, 'ymin': 60.3869887, 'xmax'...    osm      34  buildings  "
      ],
      "text/html": [
       "<div>\n",
       "<style scoped>\n",
       "    .dataframe tbody tr th:only-of-type {\n",
       "        vertical-align: middle;\n",
       "    }\n",
       "\n",
       "    .dataframe tbody tr th {\n",
       "        vertical-align: top;\n",
       "    }\n",
       "\n",
       "    .dataframe thead th {\n",
       "        text-align: right;\n",
       "    }\n",
       "</style>\n",
       "<table border=\"1\" class=\"dataframe\">\n",
       "  <thead>\n",
       "    <tr style=\"text-align: right;\">\n",
       "      <th></th>\n",
       "      <th>type</th>\n",
       "      <th>ref:bygningsnr</th>\n",
       "      <th>id</th>\n",
       "      <th>geometry</th>\n",
       "      <th>bbox</th>\n",
       "      <th>datset</th>\n",
       "      <th>region</th>\n",
       "      <th>theme</th>\n",
       "    </tr>\n",
       "  </thead>\n",
       "  <tbody>\n",
       "    <tr>\n",
       "      <th>0</th>\n",
       "      <td>school</td>\n",
       "      <td>300681410</td>\n",
       "      <td>52578874</td>\n",
       "      <td>[5, 4, 0, 0, 0, 0, 0, 0, 118, 108, 39, 65, 182...</td>\n",
       "      <td>{'xmin': 10.4639806, 'ymin': 61.1325323, 'xmax...</td>\n",
       "      <td>osm</td>\n",
       "      <td>34</td>\n",
       "      <td>buildings</td>\n",
       "    </tr>\n",
       "    <tr>\n",
       "      <th>1</th>\n",
       "      <td>sports_centre</td>\n",
       "      <td>13778086</td>\n",
       "      <td>56575688</td>\n",
       "      <td>[5, 4, 0, 0, 0, 0, 0, 0, 46, 152, 49, 65, 244,...</td>\n",
       "      <td>{'xmin': 11.099654, 'ymin': 60.791947, 'xmax':...</td>\n",
       "      <td>osm</td>\n",
       "      <td>34</td>\n",
       "      <td>buildings</td>\n",
       "    </tr>\n",
       "    <tr>\n",
       "      <th>2</th>\n",
       "      <td>sports_centre</td>\n",
       "      <td>7224745</td>\n",
       "      <td>58465580</td>\n",
       "      <td>[5, 4, 0, 0, 0, 0, 0, 0, 232, 98, 53, 65, 116,...</td>\n",
       "      <td>{'xmin': 11.3366477, 'ymin': 60.8178282, 'xmax...</td>\n",
       "      <td>osm</td>\n",
       "      <td>34</td>\n",
       "      <td>buildings</td>\n",
       "    </tr>\n",
       "    <tr>\n",
       "      <th>3</th>\n",
       "      <td>retail</td>\n",
       "      <td>20437928</td>\n",
       "      <td>67305952</td>\n",
       "      <td>[5, 4, 0, 0, 0, 0, 0, 0, 123, 174, 42, 65, 34,...</td>\n",
       "      <td>{'xmin': 10.6675984, 'ymin': 60.7862631, 'xmax...</td>\n",
       "      <td>osm</td>\n",
       "      <td>34</td>\n",
       "      <td>buildings</td>\n",
       "    </tr>\n",
       "    <tr>\n",
       "      <th>4</th>\n",
       "      <td>farm</td>\n",
       "      <td>140325082</td>\n",
       "      <td>67815114</td>\n",
       "      <td>[5, 4, 0, 0, 0, 0, 0, 0, 148, 249, 39, 65, 70,...</td>\n",
       "      <td>{'xmin': 10.498433, 'ymin': 60.3869887, 'xmax'...</td>\n",
       "      <td>osm</td>\n",
       "      <td>34</td>\n",
       "      <td>buildings</td>\n",
       "    </tr>\n",
       "  </tbody>\n",
       "</table>\n",
       "</div>"
      ]
     },
     "execution_count": 7,
     "metadata": {},
     "output_type": "execute_result"
    }
   ],
   "execution_count": 7
  }
 ],
 "metadata": {
  "kernelspec": {
   "display_name": "Python 3",
   "language": "python",
   "name": "python3"
  },
  "language_info": {
   "codemirror_mode": {
    "name": "ipython",
    "version": 2
   },
   "file_extension": ".py",
   "mimetype": "text/x-python",
   "name": "python",
   "nbconvert_exporter": "python",
   "pygments_lexer": "ipython2",
   "version": "2.7.6"
  }
 },
 "nbformat": 4,
 "nbformat_minor": 5
}
