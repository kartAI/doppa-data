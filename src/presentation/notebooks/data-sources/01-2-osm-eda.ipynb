﻿{
 "cells": [
  {
   "cell_type": "code",
   "id": "initial_id",
   "metadata": {
    "collapsed": true,
    "ExecuteTime": {
     "end_time": "2025-10-14T13:06:14.362426Z",
     "start_time": "2025-10-14T13:06:13.911446Z"
    }
   },
   "source": [
    "import duckdb\n",
    "import geopandas as gpd\n",
    "from shapely import box, from_wkb, wkb\n",
    "\n",
    "from src import Config"
   ],
   "outputs": [],
   "execution_count": 1
  },
  {
   "metadata": {
    "ExecuteTime": {
     "end_time": "2025-10-14T13:06:14.501494Z",
     "start_time": "2025-10-14T13:06:14.497001Z"
    }
   },
   "cell_type": "code",
   "source": [
    "def decode_geometry(x):\n",
    "    if isinstance(x, list):\n",
    "        return from_wkb(bytes(x))\n",
    "    if isinstance(x, (bytes, bytearray)):\n",
    "        return from_wkb(x)\n",
    "    if isinstance(x, str) and x[:4] == \"0106\":\n",
    "        return from_wkb(bytes.fromhex(x))\n",
    "    return None"
   ],
   "id": "1b564aad6eaf8615",
   "outputs": [],
   "execution_count": 2
  },
  {
   "metadata": {
    "ExecuteTime": {
     "end_time": "2025-10-14T13:06:14.517740Z",
     "start_time": "2025-10-14T13:06:14.514336Z"
    }
   },
   "cell_type": "code",
   "source": [
    "minx, miny, maxx, maxy = 5.15, 60.25, 5.45, 60.50\n",
    "bbox = box(minx, miny, maxx, maxy)"
   ],
   "id": "5c8c5387ba892285",
   "outputs": [],
   "execution_count": 3
  },
  {
   "metadata": {
    "ExecuteTime": {
     "end_time": "2025-10-14T13:06:14.738617Z",
     "start_time": "2025-10-14T13:06:14.541512Z"
    }
   },
   "cell_type": "code",
   "source": [
    "con = duckdb.connect()\n",
    "con.install_extension(\"spatial\")\n",
    "con.load_extension(\"spatial\")"
   ],
   "id": "8c37f6ed86da329f",
   "outputs": [],
   "execution_count": 4
  },
  {
   "metadata": {},
   "cell_type": "markdown",
   "source": "### Explore one partition",
   "id": "7c6838f3acafa8b5"
  },
  {
   "metadata": {
    "jupyter": {
     "is_executing": true
    },
    "ExecuteTime": {
     "start_time": "2025-10-14T13:06:14.750073Z"
    }
   },
   "cell_type": "code",
   "source": [
    "con.execute(f\"\"\"\n",
    "SELECT *\n",
    "FROM ST_Read_Meta('{Config.OSM_TEMP_PARQUET_DIR / 'part_00000.parquet'}');\n",
    "\"\"\").fetchdf()"
   ],
   "id": "19452704db8f0980",
   "outputs": [],
   "execution_count": null
  },
  {
   "metadata": {},
   "cell_type": "code",
   "source": [
    "count = con.execute(f\"SELECT count(*) FROM '{Config.OSM_BUILDINGS_PARQUET_PATH}'\").fetchone()[0]\n",
    "print(f\"There are {count} entries in the Norway OSM-dataset\")"
   ],
   "id": "f33fa03d12a8863",
   "outputs": [],
   "execution_count": null
  },
  {
   "metadata": {},
   "cell_type": "code",
   "source": "con.execute(f\"SELECT geometry FROM read_parquet('{Config.OSM_BUILDINGS_PARQUET_PATH}')\").fetchdf()",
   "id": "4722f78b5482ec80",
   "outputs": [],
   "execution_count": null
  },
  {
   "metadata": {
    "jupyter": {
     "is_executing": true
    }
   },
   "cell_type": "code",
   "source": "",
   "id": "869f08b5e766890e",
   "outputs": [],
   "execution_count": null
  },
  {
   "metadata": {},
   "cell_type": "markdown",
   "source": "### Fetch data within Bergen bounding box",
   "id": "f47dd2dda240497e"
  },
  {
   "metadata": {},
   "cell_type": "code",
   "source": [
    "bergen_wkt = \"POLYGON((5.15 60.25, 5.45 60.25, 5.45 60.50, 5.15 60.50, 5.15 60.25))\"\n",
    "\n",
    "# Query only features within Bergen bounding box\n",
    "query = f\"\"\"\n",
    "SELECT * FROM read_parquet('{Config.OSM_BUILDINGS_PARQUET_PATH}')\n",
    "WHERE ST_Within(\n",
    "    ST_GeomFromWKB(geom_wkb),\n",
    "    ST_GeomFromText('{bergen_wkt}')\n",
    ")\n",
    "\"\"\"\n",
    "\n",
    "bergen_df = con.execute(query).fetchdf()"
   ],
   "id": "56d25cdec461d4e4",
   "outputs": [],
   "execution_count": null
  },
  {
   "metadata": {},
   "cell_type": "code",
   "source": [
    "bergen_df[\"geometry\"] = bergen_df[\"geom_wkb\"].apply(\n",
    "    lambda x: wkb.loads(bytes(x)) if isinstance(x, (bytes, bytearray)) else None\n",
    ")\n",
    "\n",
    "# Create GeoDataFrame using decoded geometry\n",
    "bergen_df = gpd.GeoDataFrame(bergen_df, geometry=\"geometry\", crs=\"EPSG:4326\")"
   ],
   "id": "db836723381729c0",
   "outputs": [],
   "execution_count": null
  },
  {
   "metadata": {},
   "cell_type": "markdown",
   "source": "### Explore shapes and columns of the dataset",
   "id": "9df273e929ce862e"
  },
  {
   "metadata": {},
   "cell_type": "code",
   "source": "print(f\"Shape of dataframe {bergen_df.shape}\")",
   "id": "bdb94396bf8bcd27",
   "outputs": [],
   "execution_count": null
  },
  {
   "metadata": {},
   "cell_type": "code",
   "source": "bergen_df.dtypes",
   "id": "12a1fe6e9fd0c7bd",
   "outputs": [],
   "execution_count": null
  },
  {
   "metadata": {},
   "cell_type": "markdown",
   "source": "#### Find columns that can be removed and remove them",
   "id": "67cff3f3227f349e"
  },
  {
   "metadata": {},
   "cell_type": "code",
   "source": [
    "none_columns = [col for col in bergen_df.columns if bergen_df[col].isna().all()]\n",
    "none_columns.sort()\n",
    "\n",
    "for col in none_columns:\n",
    "    print(col)"
   ],
   "id": "211d29cfeefd118d",
   "outputs": [],
   "execution_count": null
  },
  {
   "metadata": {},
   "cell_type": "code",
   "source": "bergen_df.drop(columns=none_columns, inplace=True)",
   "id": "da9f9a685aa3439a",
   "outputs": [],
   "execution_count": null
  },
  {
   "metadata": {},
   "cell_type": "markdown",
   "source": "",
   "id": "8b2b4cb9505e0558"
  },
  {
   "metadata": {},
   "cell_type": "code",
   "source": [
    "keep_columns = [\n",
    "    # Geometry\n",
    "    \"geometry\", \"geom_wkb\", \"area\",\n",
    "\n",
    "    # Identifiers\n",
    "    \"id\", \"osm_id\", \"osmid\", \"osm_way_id\", \"osm_relation_id\",\n",
    "    \"ref:bygningsnr\", \"bygningsnr\", \"matrikkelnummer\",\n",
    "    \"gnr\", \"bnr\",\n",
    "\n",
    "    # Descriptive\n",
    "    \"building\", \"name\", \"amenity\", \"shop\", \"office\", \"tourism\",\n",
    "    \"leisure\", \"man_made\", \"industrial\", \"historic\",\n",
    "\n",
    "    # Physical\n",
    "    \"height\", \"building:levels\", \"building:levels:underground\",\n",
    "\n",
    "    # Construction\n",
    "    \"year_built\", \"build_year\", \"construction_year\", \"start_date\",\n",
    "\n",
    "    # Optional detail (include only if present)\n",
    "    \"roof:shape\", \"roof:height\", \"roof:material\", \"roof:colour\",\n",
    "    \"building:material\", \"facade_material\", \"facade_color\",\n",
    "]\n",
    "\n",
    "# Retain only columns that actually exist in bergen_df\n",
    "bergen_df = bergen_df[[col for col in keep_columns if col in bergen_df.columns]]\n",
    "bergen_df"
   ],
   "id": "4c7f75bed520ff94",
   "outputs": [],
   "execution_count": null
  },
  {
   "metadata": {},
   "cell_type": "code",
   "source": [
    "threshold = 0.99\n",
    "none_ratio = bergen_df.isna().mean()\n",
    "high_none_columns = none_ratio[none_ratio > threshold].index.tolist()\n",
    "bergen_df.drop(columns=high_none_columns, inplace=True)\n",
    "bergen_df"
   ],
   "id": "3fd7cafea10f3bcd",
   "outputs": [],
   "execution_count": null
  }
 ],
 "metadata": {
  "kernelspec": {
   "display_name": "Python 3",
   "language": "python",
   "name": "python3"
  },
  "language_info": {
   "codemirror_mode": {
    "name": "ipython",
    "version": 2
   },
   "file_extension": ".py",
   "mimetype": "text/x-python",
   "name": "python",
   "nbconvert_exporter": "python",
   "pygments_lexer": "ipython2",
   "version": "2.7.6"
  }
 },
 "nbformat": 4,
 "nbformat_minor": 5
}
