﻿{
 "cells": [
  {
   "cell_type": "code",
   "id": "initial_id",
   "metadata": {
    "collapsed": true,
    "ExecuteTime": {
     "end_time": "2025-10-03T10:51:05.263362Z",
     "start_time": "2025-10-03T10:51:03.600973Z"
    }
   },
   "source": [
    "import geopandas as gpd\n",
    "import pyarrow as pa\n",
    "import pyarrow.parquet as pq\n",
    "\n",
    "from src import Config\n",
    "from src.application.common import BuildingHandler\n",
    "from src.application.services import OpenStreetMapService"
   ],
   "outputs": [],
   "execution_count": 1
  },
  {
   "metadata": {
    "ExecuteTime": {
     "end_time": "2025-10-03T10:51:05.647257Z",
     "start_time": "2025-10-03T10:51:05.638782Z"
    }
   },
   "cell_type": "code",
   "source": [
    "def export_buildings_to_parquet(\n",
    "        open_street_map_service: OpenStreetMapService,\n",
    "        parquet_file: str,\n",
    "        batch_size: int = 5000\n",
    ") -> None:\n",
    "    first = True\n",
    "    for chunk in (open_street_map_service.yield_building_chunks(batch_size=batch_size)):\n",
    "        gdf = gpd.GeoDataFrame.from_features(chunk)\n",
    "\n",
    "        table = pa.Table.from_pandas(df=gdf, preserve_index=False)\n",
    "\n",
    "        if first:\n",
    "            pq.write_table(table, parquet_file)\n",
    "            first = False\n",
    "        else:\n",
    "            pq.write_table(table, parquet_file, append=True)\n"
   ],
   "id": "164689414c5014cf",
   "outputs": [],
   "execution_count": 2
  },
  {
   "metadata": {
    "ExecuteTime": {
     "end_time": "2025-10-03T10:51:05.687547Z",
     "start_time": "2025-10-03T10:51:05.681122Z"
    }
   },
   "cell_type": "code",
   "source": [
    "if not Config.OSM_FILE_PATH.is_file():\n",
    "    OpenStreetMapService.download_pbf()"
   ],
   "id": "6d9efebadf35e08e",
   "outputs": [],
   "execution_count": 3
  },
  {
   "metadata": {
    "ExecuteTime": {
     "end_time": "2025-10-03T10:51:05.719379Z",
     "start_time": "2025-10-03T10:51:05.713934Z"
    }
   },
   "cell_type": "code",
   "source": [
    "building_handler = BuildingHandler()\n",
    "osm_service = OpenStreetMapService(building_handler=building_handler)"
   ],
   "id": "ca52775d21e438be",
   "outputs": [],
   "execution_count": 4
  },
  {
   "metadata": {
    "jupyter": {
     "is_executing": true
    },
    "ExecuteTime": {
     "start_time": "2025-10-03T10:51:05.786339Z"
    }
   },
   "cell_type": "code",
   "source": "export_buildings_to_parquet(osm_service, \"buildings.parquet\", batch_size=5000)",
   "id": "75f4fd08417b09fc",
   "outputs": [],
   "execution_count": null
  }
 ],
 "metadata": {
  "kernelspec": {
   "display_name": "Python 3",
   "language": "python",
   "name": "python3"
  },
  "language_info": {
   "codemirror_mode": {
    "name": "ipython",
    "version": 2
   },
   "file_extension": ".py",
   "mimetype": "text/x-python",
   "name": "python",
   "nbconvert_exporter": "python",
   "pygments_lexer": "ipython2",
   "version": "2.7.6"
  }
 },
 "nbformat": 4,
 "nbformat_minor": 5
}
