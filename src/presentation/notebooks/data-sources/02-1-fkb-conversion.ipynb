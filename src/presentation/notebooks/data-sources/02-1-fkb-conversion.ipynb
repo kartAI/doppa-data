﻿{
 "cells": [
  {
   "cell_type": "code",
   "id": "initial_id",
   "metadata": {
    "collapsed": true,
    "ExecuteTime": {
     "end_time": "2025-10-21T12:40:32.460346Z",
     "start_time": "2025-10-21T12:40:30.350569Z"
    }
   },
   "source": [
    "import geopandas as gpd\n",
    "import matplotlib.pyplot as plt\n",
    "import numpy as np\n",
    "import pandas as pd\n",
    "\n",
    "from src import Config"
   ],
   "outputs": [],
   "execution_count": 1
  },
  {
   "metadata": {
    "ExecuteTime": {
     "end_time": "2025-10-21T12:40:32.487424Z",
     "start_time": "2025-10-21T12:40:32.478211Z"
    }
   },
   "cell_type": "code",
   "source": [
    "flat_geobuf_files = [path for path in Config.FKB_DIR.iterdir() if path.suffix == \".fgb\"]\n",
    "dataframes: list[gpd.GeoDataFrame] = []\n",
    "for fgb_file in flat_geobuf_files:\n",
    "    if Config.FKB_BUILDINGS_PARQUET_PATH.is_file():\n",
    "        print(f\"'{Config.FKB_BUILDINGS_PARQUET_PATH.name}' already exists\")\n",
    "        break\n",
    "\n",
    "    gdf = gpd.read_file(fgb_file)\n",
    "    gdf[\"dataset\"] = fgb_file.stem\n",
    "    gdf[\"geom_wkb\"] = gdf[\"geometry\"].apply(lambda geom: geom.wkb)\n",
    "\n",
    "    columns = gdf.columns\n",
    "    if \"versjon\" in columns:\n",
    "        gdf[\"versjon\"] = gdf[\"versjon\"].astype(str)\n",
    "\n",
    "    if \"informasjon\" in columns:\n",
    "        gdf[\"informasjon\"] = gdf[\"informasjon\"].astype(str)\n",
    "\n",
    "    dataframes.append(gdf)\n",
    "    print(f\"{fgb_file.name}:\\n\\t- {gdf.shape}\\n\\t- {gdf.crs}\")"
   ],
   "id": "f038ae23d434ce83",
   "outputs": [
    {
     "name": "stdout",
     "output_type": "stream",
     "text": [
      "'fkb_buildings.parquet' already exists\n"
     ]
    }
   ],
   "execution_count": 2
  },
  {
   "metadata": {
    "ExecuteTime": {
     "end_time": "2025-10-21T12:40:32.792939Z",
     "start_time": "2025-10-21T12:40:32.786364Z"
    }
   },
   "cell_type": "code",
   "source": [
    "if not Config.FKB_BUILDINGS_PARQUET_PATH.is_file():\n",
    "    combined_gdf = pd.concat(dataframes, ignore_index=True, join=\"outer\")\n",
    "    print(f\"Shape of combined dataset: {combined_gdf.shape}\")\n",
    "    combined_gdf.head()"
   ],
   "id": "ab32de718511635c",
   "outputs": [],
   "execution_count": 3
  },
  {
   "metadata": {
    "ExecuteTime": {
     "end_time": "2025-10-21T12:40:33.258803Z",
     "start_time": "2025-10-21T12:40:32.831633Z"
    }
   },
   "cell_type": "code",
   "source": [
    "if not Config.FKB_BUILDINGS_PARQUET_PATH.is_file():\n",
    "    combined_gdf.to_parquet(Config.FKB_BUILDINGS_PARQUET_PATH)\n",
    "else:\n",
    "    combined_gdf = gpd.read_parquet(Config.FKB_BUILDINGS_PARQUET_PATH)\n",
    "\n",
    "if not Config.FKB_WGS84_BUILDINGS_PARQUET_PATH.is_file():\n",
    "    wgs84_gdf = combined_gdf.to_crs(epsg=4326)\n",
    "    wgs84_gdf.to_parquet(Config.FKB_WGS84_BUILDINGS_PARQUET_PATH)"
   ],
   "id": "690c4f478e93e40b",
   "outputs": [],
   "execution_count": 4
  },
  {
   "metadata": {
    "ExecuteTime": {
     "end_time": "2025-10-21T12:40:33.320Z",
     "start_time": "2025-10-21T12:40:33.302775Z"
    }
   },
   "cell_type": "code",
   "source": "combined_gdf.dtypes",
   "id": "731e81589caa319b",
   "outputs": [
    {
     "data": {
      "text/plain": [
       "gml_id                        object\n",
       "lokalId                       object\n",
       "navnerom                      object\n",
       "versjonId                     object\n",
       "produkt                       object\n",
       "versjon                       object\n",
       "oppdateringsdato              object\n",
       "datafangstdato                object\n",
       "geometry                    geometry\n",
       "dataset                       object\n",
       "geom_wkb                      object\n",
       "bygningsnummer               float64\n",
       "bygningstype                 float64\n",
       "kommunenummer                float64\n",
       "BYGGSTAT                      object\n",
       "informasjon                   object\n",
       "KOMM                          object\n",
       "REGISTRERINGSKRETSNUMMER      object\n",
       "HUSLØPENUMMER                 object\n",
       "målemetode                   float64\n",
       "nøyaktighet                  float64\n",
       "synbarhet                    float64\n",
       "nøyaktighetHøyde             float64\n",
       "H-MÅLEMETODE                 float64\n",
       "verifiseringsdato             object\n",
       "TRE_D_NIVÅ                   float64\n",
       "treDNivå                     float64\n",
       "høydereferanse                object\n",
       "medium                        object\n",
       "dtype: object"
      ]
     },
     "execution_count": 5,
     "metadata": {},
     "output_type": "execute_result"
    }
   ],
   "execution_count": 5
  },
  {
   "metadata": {
    "ExecuteTime": {
     "end_time": "2025-10-21T12:40:33.701471Z",
     "start_time": "2025-10-21T12:40:33.662261Z"
    }
   },
   "cell_type": "code",
   "source": "combined_gdf[[\"geometry\", \"geom_wkb\"]]",
   "id": "54247b2426fe23d9",
   "outputs": [
    {
     "data": {
      "text/plain": [
       "                                                geometry  \\\n",
       "0                       POINT Z (297905.91 6699525.89 0)   \n",
       "1                       POINT Z (297894.08 6699533.44 0)   \n",
       "2                       POINT Z (297604.21 6699983.54 0)   \n",
       "3                       POINT Z (297653.97 6699547.38 0)   \n",
       "4                       POINT Z (297505.73 6699787.97 0)   \n",
       "...                                                  ...   \n",
       "56106  LINESTRING Z (297144.01 6699892.36 12.28, 2971...   \n",
       "56107  LINESTRING Z (297161.77 6699869.73 12.13, 2971...   \n",
       "56108  LINESTRING Z (297161.77 6699869.73 17.33, 2971...   \n",
       "56109  LINESTRING Z (297161.77 6699869.73 19.93, 2971...   \n",
       "56110  LINESTRING Z (297161.77 6699869.73 14.73, 2971...   \n",
       "\n",
       "                                                geom_wkb  \n",
       "0      b'\\x01\\x01\\x00\\x00\\x80=\\n\\xd7\\xa3\\xc7.\\x12A\\x8...  \n",
       "1      b'\\x01\\x01\\x00\\x00\\x80\\x1f\\x85\\xebQ\\x98.\\x12A\\...  \n",
       "2      b'\\x01\\x01\\x00\\x00\\x80q=\\n\\xd7\\x10*\\x12A)\\\\\\x8...  \n",
       "3      b'\\x01\\x01\\x00\\x00\\x80\\x14\\xaeG\\xe1\\xd7*\\x12A\\...  \n",
       "4      b'\\x01\\x01\\x00\\x00\\x80\\xb8\\x1e\\x85\\xeb\\x86(\\x1...  \n",
       "...                                                  ...  \n",
       "56106  b'\\x01\\x02\\x00\\x00\\x80\\x08\\x00\\x00\\x00\\xa4p=\\n...  \n",
       "56107  b\"\\x01\\x02\\x00\\x00\\x80\\x03\\x00\\x00\\x00H\\xe1z\\x...  \n",
       "56108  b\"\\x01\\x02\\x00\\x00\\x80\\x03\\x00\\x00\\x00H\\xe1z\\x...  \n",
       "56109  b\"\\x01\\x02\\x00\\x00\\x80\\x03\\x00\\x00\\x00H\\xe1z\\x...  \n",
       "56110  b\"\\x01\\x02\\x00\\x00\\x80\\x03\\x00\\x00\\x00H\\xe1z\\x...  \n",
       "\n",
       "[56111 rows x 2 columns]"
      ],
      "text/html": [
       "<div>\n",
       "<style scoped>\n",
       "    .dataframe tbody tr th:only-of-type {\n",
       "        vertical-align: middle;\n",
       "    }\n",
       "\n",
       "    .dataframe tbody tr th {\n",
       "        vertical-align: top;\n",
       "    }\n",
       "\n",
       "    .dataframe thead th {\n",
       "        text-align: right;\n",
       "    }\n",
       "</style>\n",
       "<table border=\"1\" class=\"dataframe\">\n",
       "  <thead>\n",
       "    <tr style=\"text-align: right;\">\n",
       "      <th></th>\n",
       "      <th>geometry</th>\n",
       "      <th>geom_wkb</th>\n",
       "    </tr>\n",
       "  </thead>\n",
       "  <tbody>\n",
       "    <tr>\n",
       "      <th>0</th>\n",
       "      <td>POINT Z (297905.91 6699525.89 0)</td>\n",
       "      <td>b'\\x01\\x01\\x00\\x00\\x80=\\n\\xd7\\xa3\\xc7.\\x12A\\x8...</td>\n",
       "    </tr>\n",
       "    <tr>\n",
       "      <th>1</th>\n",
       "      <td>POINT Z (297894.08 6699533.44 0)</td>\n",
       "      <td>b'\\x01\\x01\\x00\\x00\\x80\\x1f\\x85\\xebQ\\x98.\\x12A\\...</td>\n",
       "    </tr>\n",
       "    <tr>\n",
       "      <th>2</th>\n",
       "      <td>POINT Z (297604.21 6699983.54 0)</td>\n",
       "      <td>b'\\x01\\x01\\x00\\x00\\x80q=\\n\\xd7\\x10*\\x12A)\\\\\\x8...</td>\n",
       "    </tr>\n",
       "    <tr>\n",
       "      <th>3</th>\n",
       "      <td>POINT Z (297653.97 6699547.38 0)</td>\n",
       "      <td>b'\\x01\\x01\\x00\\x00\\x80\\x14\\xaeG\\xe1\\xd7*\\x12A\\...</td>\n",
       "    </tr>\n",
       "    <tr>\n",
       "      <th>4</th>\n",
       "      <td>POINT Z (297505.73 6699787.97 0)</td>\n",
       "      <td>b'\\x01\\x01\\x00\\x00\\x80\\xb8\\x1e\\x85\\xeb\\x86(\\x1...</td>\n",
       "    </tr>\n",
       "    <tr>\n",
       "      <th>...</th>\n",
       "      <td>...</td>\n",
       "      <td>...</td>\n",
       "    </tr>\n",
       "    <tr>\n",
       "      <th>56106</th>\n",
       "      <td>LINESTRING Z (297144.01 6699892.36 12.28, 2971...</td>\n",
       "      <td>b'\\x01\\x02\\x00\\x00\\x80\\x08\\x00\\x00\\x00\\xa4p=\\n...</td>\n",
       "    </tr>\n",
       "    <tr>\n",
       "      <th>56107</th>\n",
       "      <td>LINESTRING Z (297161.77 6699869.73 12.13, 2971...</td>\n",
       "      <td>b\"\\x01\\x02\\x00\\x00\\x80\\x03\\x00\\x00\\x00H\\xe1z\\x...</td>\n",
       "    </tr>\n",
       "    <tr>\n",
       "      <th>56108</th>\n",
       "      <td>LINESTRING Z (297161.77 6699869.73 17.33, 2971...</td>\n",
       "      <td>b\"\\x01\\x02\\x00\\x00\\x80\\x03\\x00\\x00\\x00H\\xe1z\\x...</td>\n",
       "    </tr>\n",
       "    <tr>\n",
       "      <th>56109</th>\n",
       "      <td>LINESTRING Z (297161.77 6699869.73 19.93, 2971...</td>\n",
       "      <td>b\"\\x01\\x02\\x00\\x00\\x80\\x03\\x00\\x00\\x00H\\xe1z\\x...</td>\n",
       "    </tr>\n",
       "    <tr>\n",
       "      <th>56110</th>\n",
       "      <td>LINESTRING Z (297161.77 6699869.73 14.73, 2971...</td>\n",
       "      <td>b\"\\x01\\x02\\x00\\x00\\x80\\x03\\x00\\x00\\x00H\\xe1z\\x...</td>\n",
       "    </tr>\n",
       "  </tbody>\n",
       "</table>\n",
       "<p>56111 rows × 2 columns</p>\n",
       "</div>"
      ]
     },
     "execution_count": 6,
     "metadata": {},
     "output_type": "execute_result"
    }
   ],
   "execution_count": 6
  },
  {
   "metadata": {
    "ExecuteTime": {
     "end_time": "2025-10-21T12:40:34.020635Z",
     "start_time": "2025-10-21T12:40:33.987525Z"
    }
   },
   "cell_type": "code",
   "source": "datasets = np.unique(combined_gdf[\"dataset\"])",
   "id": "5659638784988afe",
   "outputs": [],
   "execution_count": 7
  },
  {
   "metadata": {
    "ExecuteTime": {
     "end_time": "2025-10-21T12:40:34.334829Z",
     "start_time": "2025-10-21T12:40:34.319782Z"
    }
   },
   "cell_type": "code",
   "source": "buildings_gdf = combined_gdf[combined_gdf[\"dataset\"] == \"Bygning\"].shape",
   "id": "a28d5ece2e9b32ef",
   "outputs": [],
   "execution_count": 8
  },
  {
   "metadata": {
    "ExecuteTime": {
     "end_time": "2025-10-21T12:40:36.631585Z",
     "start_time": "2025-10-21T12:40:35.847287Z"
    }
   },
   "cell_type": "code",
   "source": [
    "buildings_gdf = combined_gdf[combined_gdf[\"dataset\"] == \"Bygning\"]\n",
    "\n",
    "# Step 2: Convert to WGS84 (not strictly needed for static plot, but good practice)\n",
    "if buildings_gdf.crs != \"EPSG:4326\":\n",
    "    buildings_gdf = buildings_gdf.to_crs(\"EPSG:4326\")\n",
    "\n",
    "# Step 3: Take a sample of 10 features\n",
    "sample_10 = buildings_gdf.sample(n=10, random_state=42)\n",
    "\n",
    "# Step 4: Plot full dataset (optional, gray background)\n",
    "ax = buildings_gdf.plot(color=\"lightgray\", figsize=(10, 10), linewidth=0.5)\n",
    "\n",
    "# Step 5: Overlay the 10 features in red\n",
    "sample_10.plot(ax=ax, color=\"red\", edgecolor=\"black\")\n",
    "\n",
    "# Step 6: Zoom to extent of the 10 buildings\n",
    "plt.xlim(sample_10.total_bounds[[0, 2]])\n",
    "plt.ylim(sample_10.total_bounds[[1, 3]])\n",
    "plt.title(\"Zoomed-in view of 10 buildings\")\n",
    "plt.axis(\"off\")\n",
    "plt.show()"
   ],
   "id": "ca4d723b22d7895f",
   "outputs": [
    {
     "data": {
      "text/plain": [
       "<Figure size 1000x1000 with 1 Axes>"
      ],
      "image/png": "[encoded data removed]"
     },
     "metadata": {},
     "output_type": "display_data"
    }
   ],
   "execution_count": 9
  }
 ],
 "metadata": {
  "kernelspec": {
   "display_name": "Python 3",
   "language": "python",
   "name": "python3"
  },
  "language_info": {
   "codemirror_mode": {
    "name": "ipython",
    "version": 2
   },
   "file_extension": ".py",
   "mimetype": "text/x-python",
   "name": "python",
   "nbconvert_exporter": "python",
   "pygments_lexer": "ipython2",
   "version": "2.7.6"
  }
 },
 "nbformat": 4,
 "nbformat_minor": 5
}
